{
 "cells": [
  {
   "cell_type": "markdown",
   "metadata": {},
   "source": [
    "# Tehtävä\n",
    "Kesälomat lähestyvät ja monien katseet kääntyvät kohti kesämökkejä. Osalla nämä löytyvät lähempää, osalla taas matkustukseen kuluu pitkiäkin aikoja. Monesti tien päällä ollessa tuntuu siltä, että jos hieman vielä kiihdyttäisi, olisi perillä merkittävästi nopeammin… vai olisiko sittenkään? Ovatko voitetut minuutit kasvaneiden matkakustannusten arvoisia? Entä kuinka paljon matkustusajoneuvon tyyppi vaikuttaa tähän?\n",
    "\n",
    "Tehtävänäsi on toteuttaa autoilumittari-sovellus. Sovelluksen tulee pystyä suorittamaan vertailu matka-ajan ja polttoaineen kulutuksen välillä kahden eri valitun nopeuden mukaan: käyttäjä ilmoittaa saman matkustettavan etäisyyden samalla kulkuneuvotyypillä eri nopeuksilla ja sovellus laskee miten paljon nopeammin käyttäjä on perillä ja kuinka paljon enemmän polttoainetta tähän kuluu. Etäisyyden sekä kulkuneuvotyypin tulee siis olla molemmissa samat. Sovelluksen tulee pystyä näyttämään web-käyttöliittymässä molemmista annetuista matkanopeuksista käytetty aika ja polttoaine, sekä näiden kahden ero.\n",
    "\n",
    "Sovelluksessa tulee pystyä tarkastelemaan kolmen erilaisen auton tuloksia. Autojen bensankulutus kasvaa 1.009 kulmakertoimella. Eli jos auton nopeus kasvaa 1km/h, niin bensankulutus kasvaa 1.009 kertaiseksi. Eri autojen bensakulutus 1km/h nopeudella on seuraava:\n",
    "\n",
    "Auto A: 3l / 100km\n",
    "\n",
    "Auto B: 3.5l / 100km\n",
    "\n",
    "Auto C: 4l / 100km\n",
    "\n",
    "Toteutuksessa käytettävät teknologiat ovat vapaasti päätettävissäsi. Tehtävässä ei välttämättä ole tarpeen tehdä erillistä backend-toteutusta, mutta voit sen halutessasi tehdä. Tehtävässä ei saa käyttää mitään kolmannen osapuolen palvelua tai kirjastoa, mikä toteuttaa vaaditut vertailutoimenpiteet.\n",
    "\n",
    "Katso vielä lisätiedot tehtävän arviointikriteereistä sekä tarkempi ohje siitä, mitä palautuksessa tulee huomioida.\n",
    "\n",
    "Onnea koodihaasteeseen ja mukavaa (kesä)koodailua!"
   ]
  },
  {
   "cell_type": "markdown",
   "metadata": {},
   "source": [
    "# Oma toteutus\n",
    "- tuottaa matplotlibillä kuvaajan, jolla voisi vertailla eri autoja visuaalisesti"
   ]
  },
  {
   "cell_type": "markdown",
   "metadata": {},
   "source": [
    "# Mitä pitikään tehdä?\n",
    "*Ovatko voitetut minuutit matkakustannusten arvoisia?* Eli verrataan siihen, kuinka paljon bensakulut kasvavat verrattuna aikaan, joka voitetaan?\n",
    "- Voisiko antaa arvon a = kasvava bensankulutus litroina / voitettu aika sekunteina(tai min tai h)?\n",
    "- Vaihtoehtoisesti vain absoluuttiset arvot. Sitten verrataan suuruutta.\n",
    "\n",
    "## Sovellus tekee...\n",
    "- vertailun matka-ajan ja polttoaineen kulutuksen välillä kahden eri nopeuden mukaan\n",
    "\n",
    "### Input\n",
    "- matkustus_etäisyys\n",
    "- kulkuneuvotyyppi\n",
    "- nopeus1\n",
    "- nopeus2\n",
    "\n",
    "### Output\n",
    "- aika_nopeudella1 = nopeus1 * etäisyys\n",
    "- aika_nopeudella2 = nopeus2 * etäisyys\n",
    "- kulutus_nopeudella1 = 1.009**(nopeus1-1) * ajoneuvon_kulutus\n",
    "- kulutus_nopeudella2 =\n",
    "- aikojen_ero = voitettu_aika\n",
    "- kulutusten_ero = kohonnut_bensankulutus\n",
    "\n",
    "- voitettu_aika = abs(aika_nopeudella1 - aika_nopeudella2)\n",
    "    - pitää määrittää kumpi nopeus on suurempi (ei tarvikaan)\n",
    "    - laskea molemmilla nopeuksilla aika, joka matkaan kuluu ja laskea näiden itseisarvo\n",
    "        - tällä tavoin ei tarvitse selvittää suuruusjärjestystä\n",
    "        - pitäisikö ilmoittaa, että \"nopeudella x aikaa kuluisi y vähemmän ja lisäkulut olisivat z\"\n",
    "            - suuruusjärjestys tarvitaan\n",
    "- kohonnut_bensankulutus\n",
    "    - bensankulutus kasvaa kulmakertoimella 1.009 per lisääntynyt 1 km/h\n",
    "        - tarkoitetaanko lineaarista vai eksponentiaalista?\n",
    "            - eksponentiaalisessa on enemmän järkeä\n",
    "            - kulutus lasketaan kaavalla 1.009**(x-1), jossa x on vauhti\n",
    "    - lähtöarvot ovat vauhdille 1 km/h"
   ]
  },
  {
   "cell_type": "code",
   "execution_count": 31,
   "metadata": {},
   "outputs": [
    {
     "name": "stdout",
     "output_type": "stream",
     "text": [
      "Kulutusero nopeuksien välillä on 0.698 l/100 km.\n",
      "Matkustusaikojen ero on 30.0 min.\n"
     ]
    }
   ],
   "source": [
    "#s, c, v1, v2 = input(\"Anna ajattettava matka, ajoneuvon kulutus (l per km), vauhti1 ja vauhti2 (erottele välilyönnein):\").split()\n",
    "\n",
    "# Laskee kulutuksen annetulle nopeudelle.\n",
    "def con_v(v):\n",
    "    return 1.009**(v-1) * c\n",
    "\n",
    "# Etäisyys\n",
    "s = 1200\n",
    "\n",
    "# Kulutus l per km\n",
    "c = 3\n",
    "\n",
    "# Nopeus1\n",
    "v1 = 20\n",
    "\n",
    "# Nopeus2\n",
    "v2 = 40\n",
    "\n",
    "# Kulutuksen laskeminen nopeudelle\n",
    "con_v1 = con_v(v1)\n",
    "con_v2 = con_v(v2)\n",
    "\n",
    "# Laskee matkustusajan annetulle nopeudelle.\n",
    "time1 = s / v1\n",
    "time2 = s / v2\n",
    "\n",
    "# Laskee kulutuseron.\n",
    "con_d = abs(con_v1 - con_v2)\n",
    "\n",
    "# Laskee matkustukseen kuluvan aikaeron.\n",
    "t_d = abs(time1 - time2)\n",
    "\n",
    "print(\"Kulutusero nopeuksien välillä on {:.3f} l/100 km.\".format(con_d))\n",
    "print(\"Matkustusaikojen ero on\", t_d, \"min.\")"
   ]
  }
 ],
 "metadata": {
  "kernelspec": {
   "display_name": "Python 3",
   "language": "python",
   "name": "python3"
  },
  "language_info": {
   "codemirror_mode": {
    "name": "ipython",
    "version": 3
   },
   "file_extension": ".py",
   "mimetype": "text/x-python",
   "name": "python",
   "nbconvert_exporter": "python",
   "pygments_lexer": "ipython3",
   "version": "3.8.5"
  }
 },
 "nbformat": 4,
 "nbformat_minor": 4
}
